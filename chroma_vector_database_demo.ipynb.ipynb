{
  "nbformat": 4,
  "nbformat_minor": 0,
  "metadata": {
    "colab": {
      "provenance": []
    },
    "kernelspec": {
      "name": "python3",
      "display_name": "Python 3"
    },
    "language_info": {
      "name": "python"
    }
  },
  "cells": [
    {
      "cell_type": "markdown",
      "source": [
        "## 2. Vector Databases and Chroma\n",
        "\n",
        "### ○ Explain what kind of datastore vector databases are.  \n",
        "Vector databases are specialized datastores designed to store, manage, and query high-dimensional vectors — numerical representations of data such as text, images, audio, or video.  \n",
        "Unlike traditional relational databases that use structured rows and columns, vector databases focus on **similarity-based search** using vector embeddings, often powered by Approximate Nearest Neighbor (ANN) algorithms like HNSW or FAISS.\n",
        "\n",
        "---\n",
        "\n",
        "### ○ Why/when would you use them?  \n",
        "Vector databases are used when you need to retrieve information based on **semantic similarity**, not exact matches.  \n",
        "**Common use cases include:**\n",
        "- Semantic search (e.g., document or FAQ retrieval)\n",
        "- Chatbots and LLMs (e.g., Retrieval-Augmented Generation)\n",
        "- Image and video similarity search\n",
        "- Personalized recommendations\n",
        "- Fraud detection and anomaly detection in high-dimensional data\n",
        "\n",
        "---\n",
        "\n",
        "### ○ What is Chroma?  \n",
        "**Chroma** is an open-source vector database built for simplicity and ease of use, especially in AI/ML workflows.  \n",
        "**Key features:**\n",
        "- Python-native API\n",
        "- Lightweight and easy to integrate with embedding models\n",
        "- Ideal for small to medium-sized projects\n",
        "- Great for prototyping with LLMs and semantic search\n",
        "\n",
        "---\n",
        "\n",
        "### ○ How does Chroma compare to other vector databases like Milvus, Weaviate, and Pinecone?\n",
        "\n",
        "#### ■ What are the strengths and weaknesses of each?\n",
        "\n",
        "| Vector DB | Strengths | Weaknesses |\n",
        "|-----------|-----------|------------|\n",
        "| **Chroma** | - Simple and Python-friendly<br>- Lightweight<br>- Easy to set up | - Less mature<br>- Limited scalability for large-scale use |\n",
        "| **Milvus** | - High scalability<br>- Supports various indexing methods<br>- Designed for production environments | - Complex setup<br>- Steeper learning curve |\n",
        "| **Weaviate** | - Supports hybrid (vector + keyword) and semantic search<br>- Graph-based querying | - Resource-intensive<br>- Performance may vary with scale |\n",
        "| **Pinecone** | - Fully managed cloud service<br>- Auto-scaling and easy API access | - Cloud-only<br>- Expensive for large-scale applications |\n",
        "\n",
        "---\n",
        "\n",
        "#### ■ How do their approaches differ for storage, querying, scalability, etc?\n",
        "\n",
        "- **Chroma**  \n",
        "  - **Storage**: In-memory or local persistent storage  \n",
        "  - **Querying**: Simple similarity search using HNSW  \n",
        "  - **Scalability**: Suitable for small to medium projects  \n",
        "\n",
        "- **Milvus**  \n",
        "  - **Storage**: Distributed file systems or cloud storage  \n",
        "  - **Querying**: Supports multiple indexing strategies (e.g., IVF, HNSW, Flat)  \n",
        "  - **Scalability**: High scalability, suited for large-scale production  \n",
        "\n",
        "- **Weaviate**  \n",
        "  - **Storage**: Local or cloud-based with plugin support  \n",
        "  - **Querying**: Combines vector similarity with keyword, metadata, and graph search  \n",
        "  - **Scalability**: Scales well but requires more resources  \n",
        "\n",
        "- **Pinecone**  \n",
        "  - **Storage**: Abstracted cloud storage  \n",
        "  - **Querying**: ANN + metadata filtering  \n",
        "  - **Scalability**: Fully managed and elastic scaling  \n",
        "\n",
        "---\n",
        "\n",
        "### ○ What are the different modes you can run Chroma in?\n",
        "\n",
        "Chroma supports the following modes (as per [Chroma docs](https://www.chromadb.org)):\n",
        "\n",
        "1. **In-memory mode**  \n",
        "   - Ephemeral, data is lost on shutdown  \n",
        "   - Best for prototyping or quick testing\n",
        "\n",
        "2. **Persistent (local disk) mode**  \n",
        "   - Saves data on disk  \n",
        "   - Retains data across sessions\n",
        "\n",
        "3. **Client-server mode**  \n",
        "   - Chroma server runs separately from the client  \n",
        "   - Enables remote and distributed usage\n"
      ],
      "metadata": {
        "id": "bGioBBPzyWly"
      }
    },
    {
      "cell_type": "code",
      "execution_count": null,
      "metadata": {
        "colab": {
          "base_uri": "https://localhost:8080/"
        },
        "id": "D4-QNXWXyJ7O",
        "outputId": "49a5997d-d3e5-4747-cc29-1669a73d01db"
      },
      "outputs": [
        {
          "output_type": "stream",
          "name": "stdout",
          "text": [
            "Requirement already satisfied: chromadb in /usr/local/lib/python3.11/dist-packages (1.0.0)\n",
            "Requirement already satisfied: build>=1.0.3 in /usr/local/lib/python3.11/dist-packages (from chromadb) (1.2.2.post1)\n",
            "Requirement already satisfied: pydantic>=1.9 in /usr/local/lib/python3.11/dist-packages (from chromadb) (2.11.2)\n",
            "Requirement already satisfied: chroma-hnswlib==0.7.6 in /usr/local/lib/python3.11/dist-packages (from chromadb) (0.7.6)\n",
            "Requirement already satisfied: fastapi==0.115.9 in /usr/local/lib/python3.11/dist-packages (from chromadb) (0.115.9)\n",
            "Requirement already satisfied: uvicorn>=0.18.3 in /usr/local/lib/python3.11/dist-packages (from uvicorn[standard]>=0.18.3->chromadb) (0.34.0)\n",
            "Requirement already satisfied: numpy>=1.22.5 in /usr/local/lib/python3.11/dist-packages (from chromadb) (2.0.2)\n",
            "Requirement already satisfied: posthog>=2.4.0 in /usr/local/lib/python3.11/dist-packages (from chromadb) (3.23.0)\n",
            "Requirement already satisfied: typing-extensions>=4.5.0 in /usr/local/lib/python3.11/dist-packages (from chromadb) (4.13.1)\n",
            "Requirement already satisfied: onnxruntime>=1.14.1 in /usr/local/lib/python3.11/dist-packages (from chromadb) (1.21.0)\n",
            "Requirement already satisfied: opentelemetry-api>=1.2.0 in /usr/local/lib/python3.11/dist-packages (from chromadb) (1.31.1)\n",
            "Requirement already satisfied: opentelemetry-exporter-otlp-proto-grpc>=1.2.0 in /usr/local/lib/python3.11/dist-packages (from chromadb) (1.31.1)\n",
            "Requirement already satisfied: opentelemetry-instrumentation-fastapi>=0.41b0 in /usr/local/lib/python3.11/dist-packages (from chromadb) (0.52b1)\n",
            "Requirement already satisfied: opentelemetry-sdk>=1.2.0 in /usr/local/lib/python3.11/dist-packages (from chromadb) (1.31.1)\n",
            "Requirement already satisfied: tokenizers>=0.13.2 in /usr/local/lib/python3.11/dist-packages (from chromadb) (0.21.1)\n",
            "Requirement already satisfied: pypika>=0.48.9 in /usr/local/lib/python3.11/dist-packages (from chromadb) (0.48.9)\n",
            "Requirement already satisfied: tqdm>=4.65.0 in /usr/local/lib/python3.11/dist-packages (from chromadb) (4.67.1)\n",
            "Requirement already satisfied: overrides>=7.3.1 in /usr/local/lib/python3.11/dist-packages (from chromadb) (7.7.0)\n",
            "Requirement already satisfied: importlib-resources in /usr/local/lib/python3.11/dist-packages (from chromadb) (6.5.2)\n",
            "Requirement already satisfied: grpcio>=1.58.0 in /usr/local/lib/python3.11/dist-packages (from chromadb) (1.71.0)\n",
            "Requirement already satisfied: bcrypt>=4.0.1 in /usr/local/lib/python3.11/dist-packages (from chromadb) (4.3.0)\n",
            "Requirement already satisfied: typer>=0.9.0 in /usr/local/lib/python3.11/dist-packages (from chromadb) (0.15.2)\n",
            "Requirement already satisfied: kubernetes>=28.1.0 in /usr/local/lib/python3.11/dist-packages (from chromadb) (32.0.1)\n",
            "Requirement already satisfied: tenacity>=8.2.3 in /usr/local/lib/python3.11/dist-packages (from chromadb) (9.1.2)\n",
            "Requirement already satisfied: pyyaml>=6.0.0 in /usr/local/lib/python3.11/dist-packages (from chromadb) (6.0.2)\n",
            "Requirement already satisfied: mmh3>=4.0.1 in /usr/local/lib/python3.11/dist-packages (from chromadb) (5.1.0)\n",
            "Requirement already satisfied: orjson>=3.9.12 in /usr/local/lib/python3.11/dist-packages (from chromadb) (3.10.16)\n",
            "Requirement already satisfied: httpx>=0.27.0 in /usr/local/lib/python3.11/dist-packages (from chromadb) (0.28.1)\n",
            "Requirement already satisfied: rich>=10.11.0 in /usr/local/lib/python3.11/dist-packages (from chromadb) (13.9.4)\n",
            "Requirement already satisfied: jsonschema>=4.19.0 in /usr/local/lib/python3.11/dist-packages (from chromadb) (4.23.0)\n",
            "Requirement already satisfied: starlette<0.46.0,>=0.40.0 in /usr/local/lib/python3.11/dist-packages (from fastapi==0.115.9->chromadb) (0.45.3)\n",
            "Requirement already satisfied: packaging>=19.1 in /usr/local/lib/python3.11/dist-packages (from build>=1.0.3->chromadb) (24.2)\n",
            "Requirement already satisfied: pyproject_hooks in /usr/local/lib/python3.11/dist-packages (from build>=1.0.3->chromadb) (1.2.0)\n",
            "Requirement already satisfied: anyio in /usr/local/lib/python3.11/dist-packages (from httpx>=0.27.0->chromadb) (4.9.0)\n",
            "Requirement already satisfied: certifi in /usr/local/lib/python3.11/dist-packages (from httpx>=0.27.0->chromadb) (2025.1.31)\n",
            "Requirement already satisfied: httpcore==1.* in /usr/local/lib/python3.11/dist-packages (from httpx>=0.27.0->chromadb) (1.0.7)\n",
            "Requirement already satisfied: idna in /usr/local/lib/python3.11/dist-packages (from httpx>=0.27.0->chromadb) (3.10)\n",
            "Requirement already satisfied: h11<0.15,>=0.13 in /usr/local/lib/python3.11/dist-packages (from httpcore==1.*->httpx>=0.27.0->chromadb) (0.14.0)\n",
            "Requirement already satisfied: attrs>=22.2.0 in /usr/local/lib/python3.11/dist-packages (from jsonschema>=4.19.0->chromadb) (25.3.0)\n",
            "Requirement already satisfied: jsonschema-specifications>=2023.03.6 in /usr/local/lib/python3.11/dist-packages (from jsonschema>=4.19.0->chromadb) (2024.10.1)\n",
            "Requirement already satisfied: referencing>=0.28.4 in /usr/local/lib/python3.11/dist-packages (from jsonschema>=4.19.0->chromadb) (0.36.2)\n",
            "Requirement already satisfied: rpds-py>=0.7.1 in /usr/local/lib/python3.11/dist-packages (from jsonschema>=4.19.0->chromadb) (0.24.0)\n",
            "Requirement already satisfied: six>=1.9.0 in /usr/local/lib/python3.11/dist-packages (from kubernetes>=28.1.0->chromadb) (1.17.0)\n",
            "Requirement already satisfied: python-dateutil>=2.5.3 in /usr/local/lib/python3.11/dist-packages (from kubernetes>=28.1.0->chromadb) (2.8.2)\n",
            "Requirement already satisfied: google-auth>=1.0.1 in /usr/local/lib/python3.11/dist-packages (from kubernetes>=28.1.0->chromadb) (2.38.0)\n",
            "Requirement already satisfied: websocket-client!=0.40.0,!=0.41.*,!=0.42.*,>=0.32.0 in /usr/local/lib/python3.11/dist-packages (from kubernetes>=28.1.0->chromadb) (1.8.0)\n",
            "Requirement already satisfied: requests in /usr/local/lib/python3.11/dist-packages (from kubernetes>=28.1.0->chromadb) (2.32.3)\n",
            "Requirement already satisfied: requests-oauthlib in /usr/local/lib/python3.11/dist-packages (from kubernetes>=28.1.0->chromadb) (2.0.0)\n",
            "Requirement already satisfied: oauthlib>=3.2.2 in /usr/local/lib/python3.11/dist-packages (from kubernetes>=28.1.0->chromadb) (3.2.2)\n",
            "Requirement already satisfied: urllib3>=1.24.2 in /usr/local/lib/python3.11/dist-packages (from kubernetes>=28.1.0->chromadb) (2.3.0)\n",
            "Requirement already satisfied: durationpy>=0.7 in /usr/local/lib/python3.11/dist-packages (from kubernetes>=28.1.0->chromadb) (0.9)\n",
            "Requirement already satisfied: coloredlogs in /usr/local/lib/python3.11/dist-packages (from onnxruntime>=1.14.1->chromadb) (15.0.1)\n",
            "Requirement already satisfied: flatbuffers in /usr/local/lib/python3.11/dist-packages (from onnxruntime>=1.14.1->chromadb) (25.2.10)\n",
            "Requirement already satisfied: protobuf in /usr/local/lib/python3.11/dist-packages (from onnxruntime>=1.14.1->chromadb) (5.29.4)\n",
            "Requirement already satisfied: sympy in /usr/local/lib/python3.11/dist-packages (from onnxruntime>=1.14.1->chromadb) (1.13.1)\n",
            "Requirement already satisfied: deprecated>=1.2.6 in /usr/local/lib/python3.11/dist-packages (from opentelemetry-api>=1.2.0->chromadb) (1.2.18)\n",
            "Requirement already satisfied: importlib-metadata<8.7.0,>=6.0 in /usr/local/lib/python3.11/dist-packages (from opentelemetry-api>=1.2.0->chromadb) (8.6.1)\n",
            "Requirement already satisfied: googleapis-common-protos~=1.52 in /usr/local/lib/python3.11/dist-packages (from opentelemetry-exporter-otlp-proto-grpc>=1.2.0->chromadb) (1.69.2)\n",
            "Requirement already satisfied: opentelemetry-exporter-otlp-proto-common==1.31.1 in /usr/local/lib/python3.11/dist-packages (from opentelemetry-exporter-otlp-proto-grpc>=1.2.0->chromadb) (1.31.1)\n",
            "Requirement already satisfied: opentelemetry-proto==1.31.1 in /usr/local/lib/python3.11/dist-packages (from opentelemetry-exporter-otlp-proto-grpc>=1.2.0->chromadb) (1.31.1)\n",
            "Requirement already satisfied: opentelemetry-instrumentation-asgi==0.52b1 in /usr/local/lib/python3.11/dist-packages (from opentelemetry-instrumentation-fastapi>=0.41b0->chromadb) (0.52b1)\n",
            "Requirement already satisfied: opentelemetry-instrumentation==0.52b1 in /usr/local/lib/python3.11/dist-packages (from opentelemetry-instrumentation-fastapi>=0.41b0->chromadb) (0.52b1)\n",
            "Requirement already satisfied: opentelemetry-semantic-conventions==0.52b1 in /usr/local/lib/python3.11/dist-packages (from opentelemetry-instrumentation-fastapi>=0.41b0->chromadb) (0.52b1)\n",
            "Requirement already satisfied: opentelemetry-util-http==0.52b1 in /usr/local/lib/python3.11/dist-packages (from opentelemetry-instrumentation-fastapi>=0.41b0->chromadb) (0.52b1)\n",
            "Requirement already satisfied: wrapt<2.0.0,>=1.0.0 in /usr/local/lib/python3.11/dist-packages (from opentelemetry-instrumentation==0.52b1->opentelemetry-instrumentation-fastapi>=0.41b0->chromadb) (1.17.2)\n",
            "Requirement already satisfied: asgiref~=3.0 in /usr/local/lib/python3.11/dist-packages (from opentelemetry-instrumentation-asgi==0.52b1->opentelemetry-instrumentation-fastapi>=0.41b0->chromadb) (3.8.1)\n",
            "Requirement already satisfied: monotonic>=1.5 in /usr/local/lib/python3.11/dist-packages (from posthog>=2.4.0->chromadb) (1.6)\n",
            "Requirement already satisfied: backoff>=1.10.0 in /usr/local/lib/python3.11/dist-packages (from posthog>=2.4.0->chromadb) (2.2.1)\n",
            "Requirement already satisfied: distro>=1.5.0 in /usr/local/lib/python3.11/dist-packages (from posthog>=2.4.0->chromadb) (1.9.0)\n",
            "Requirement already satisfied: annotated-types>=0.6.0 in /usr/local/lib/python3.11/dist-packages (from pydantic>=1.9->chromadb) (0.7.0)\n",
            "Requirement already satisfied: pydantic-core==2.33.1 in /usr/local/lib/python3.11/dist-packages (from pydantic>=1.9->chromadb) (2.33.1)\n",
            "Requirement already satisfied: typing-inspection>=0.4.0 in /usr/local/lib/python3.11/dist-packages (from pydantic>=1.9->chromadb) (0.4.0)\n",
            "Requirement already satisfied: markdown-it-py>=2.2.0 in /usr/local/lib/python3.11/dist-packages (from rich>=10.11.0->chromadb) (3.0.0)\n",
            "Requirement already satisfied: pygments<3.0.0,>=2.13.0 in /usr/local/lib/python3.11/dist-packages (from rich>=10.11.0->chromadb) (2.18.0)\n",
            "Requirement already satisfied: huggingface-hub<1.0,>=0.16.4 in /usr/local/lib/python3.11/dist-packages (from tokenizers>=0.13.2->chromadb) (0.30.1)\n",
            "Requirement already satisfied: click>=8.0.0 in /usr/local/lib/python3.11/dist-packages (from typer>=0.9.0->chromadb) (8.1.8)\n",
            "Requirement already satisfied: shellingham>=1.3.0 in /usr/local/lib/python3.11/dist-packages (from typer>=0.9.0->chromadb) (1.5.4)\n",
            "Requirement already satisfied: httptools>=0.6.3 in /usr/local/lib/python3.11/dist-packages (from uvicorn[standard]>=0.18.3->chromadb) (0.6.4)\n",
            "Requirement already satisfied: python-dotenv>=0.13 in /usr/local/lib/python3.11/dist-packages (from uvicorn[standard]>=0.18.3->chromadb) (1.1.0)\n",
            "Requirement already satisfied: uvloop!=0.15.0,!=0.15.1,>=0.14.0 in /usr/local/lib/python3.11/dist-packages (from uvicorn[standard]>=0.18.3->chromadb) (0.21.0)\n",
            "Requirement already satisfied: watchfiles>=0.13 in /usr/local/lib/python3.11/dist-packages (from uvicorn[standard]>=0.18.3->chromadb) (1.0.4)\n",
            "Requirement already satisfied: websockets>=10.4 in /usr/local/lib/python3.11/dist-packages (from uvicorn[standard]>=0.18.3->chromadb) (15.0.1)\n",
            "Requirement already satisfied: cachetools<6.0,>=2.0.0 in /usr/local/lib/python3.11/dist-packages (from google-auth>=1.0.1->kubernetes>=28.1.0->chromadb) (5.5.2)\n",
            "Requirement already satisfied: pyasn1-modules>=0.2.1 in /usr/local/lib/python3.11/dist-packages (from google-auth>=1.0.1->kubernetes>=28.1.0->chromadb) (0.4.2)\n",
            "Requirement already satisfied: rsa<5,>=3.1.4 in /usr/local/lib/python3.11/dist-packages (from google-auth>=1.0.1->kubernetes>=28.1.0->chromadb) (4.9)\n",
            "Requirement already satisfied: filelock in /usr/local/lib/python3.11/dist-packages (from huggingface-hub<1.0,>=0.16.4->tokenizers>=0.13.2->chromadb) (3.18.0)\n",
            "Requirement already satisfied: fsspec>=2023.5.0 in /usr/local/lib/python3.11/dist-packages (from huggingface-hub<1.0,>=0.16.4->tokenizers>=0.13.2->chromadb) (2025.3.2)\n",
            "Requirement already satisfied: zipp>=3.20 in /usr/local/lib/python3.11/dist-packages (from importlib-metadata<8.7.0,>=6.0->opentelemetry-api>=1.2.0->chromadb) (3.21.0)\n",
            "Requirement already satisfied: mdurl~=0.1 in /usr/local/lib/python3.11/dist-packages (from markdown-it-py>=2.2.0->rich>=10.11.0->chromadb) (0.1.2)\n",
            "Requirement already satisfied: charset-normalizer<4,>=2 in /usr/local/lib/python3.11/dist-packages (from requests->kubernetes>=28.1.0->chromadb) (3.4.1)\n",
            "Requirement already satisfied: sniffio>=1.1 in /usr/local/lib/python3.11/dist-packages (from anyio->httpx>=0.27.0->chromadb) (1.3.1)\n",
            "Requirement already satisfied: humanfriendly>=9.1 in /usr/local/lib/python3.11/dist-packages (from coloredlogs->onnxruntime>=1.14.1->chromadb) (10.0)\n",
            "Requirement already satisfied: mpmath<1.4,>=1.1.0 in /usr/local/lib/python3.11/dist-packages (from sympy->onnxruntime>=1.14.1->chromadb) (1.3.0)\n",
            "Requirement already satisfied: pyasn1<0.7.0,>=0.6.1 in /usr/local/lib/python3.11/dist-packages (from pyasn1-modules>=0.2.1->google-auth>=1.0.1->kubernetes>=28.1.0->chromadb) (0.6.1)\n",
            "Chroma client successfully created: <chromadb.api.client.Client object at 0x7a98099f1510>\n"
          ]
        }
      ],
      "source": [
        "# Install the chromadb library\n",
        "!pip install chromadb\n",
        "\n",
        "# Import the chromadb module\n",
        "import chromadb\n",
        "\n",
        "# Create an ephemeral local client (in-memory Chroma server)\n",
        "client = chromadb.Client()\n",
        "\n",
        "# Verify the client is created by printing a confirmation\n",
        "print(\"Chroma client successfully created:\", client)"
      ]
    },
    {
      "cell_type": "code",
      "source": [
        "# Documents: Information-rich sentences about products/services\n",
        "doc1 = \"Our Smart Thermostat adjusts room temperature based on your daily routine.\"\n",
        "doc2 = \"The Smart Light Bulb offers 16 million color options via our mobile app.\"\n",
        "doc3 = \"Our Smart Security Camera records in 4K and sends motion alerts.\"\n",
        "doc4 = \"The Smart Doorbell includes a two-way audio feature for visitor communication.\"\n",
        "doc5 = \"All our devices integrate seamlessly with Alexa and Google Home.\"\n",
        "doc6 = \"The Smart Lock uses fingerprint recognition for enhanced security.\"\n",
        "doc7 = \"Our subscription service provides 24/7 monitoring for all smart devices.\"\n",
        "doc8 = \"The Smart Speaker delivers high-quality sound and voice control.\"\n",
        "\n",
        "# Queries: Customer questions\n",
        "query1 = \"How does the Smart Thermostat learn my schedule?\"\n",
        "query2 = \"Can I talk to visitors through the Smart Doorbell?\"\n",
        "\n",
        "# Create a collection called \"answers\"\n",
        "answers = client.get_or_create_collection(name=\"answers\")\n",
        "\n",
        "# Add documents to the collection\n",
        "answers.add(\n",
        "    documents=[doc1, doc2, doc3, doc4, doc5, doc6, doc7, doc8],\n",
        "    ids=[\"d1\", \"d2\", \"d3\", \"d4\", \"d5\", \"d6\", \"d7\", \"d8\"]  # Unique IDs required\n",
        ")"
      ],
      "metadata": {
        "colab": {
          "base_uri": "https://localhost:8080/"
        },
        "id": "FOW7bVHp0wJq",
        "outputId": "03ea143d-b262-4e65-eced-f3cc22d17667"
      },
      "execution_count": null,
      "outputs": [
        {
          "output_type": "stream",
          "name": "stderr",
          "text": [
            "/root/.cache/chroma/onnx_models/all-MiniLM-L6-v2/onnx.tar.gz: 100%|██████████| 79.3M/79.3M [00:02<00:00, 36.8MiB/s]\n"
          ]
        }
      ]
    },
    {
      "cell_type": "markdown",
      "source": [
        "## Embedding Creation\n",
        "\n",
        "### ○ What is vector embedding, and why do it?  \n",
        "**Vector embedding** converts data (e.g., text) into numerical vectors in a high-dimensional space, capturing semantic meaning.  \n",
        "We do this to enable **similarity comparisons** between data points — vectors that are semantically similar are closer in the embedding space.\n",
        "\n",
        "---\n",
        "\n",
        "### ○ What is an embedding space?  \n",
        "An **embedding space** is the multi-dimensional coordinate system where vectors live, with distances reflecting **semantic similarity**.  \n",
        "For example, words or sentences with similar meanings will be represented by vectors that are close together.\n",
        "\n",
        "---\n",
        "\n",
        "### ○ When you used `.add` in the previous step, Chroma automatically created embeddings for your strings.\n",
        "\n",
        "#### ■ What algorithm did Chroma use for this?  \n",
        "Chroma uses the **all-MiniLM-L6-v2** model by default from **Sentence Transformers**.\n",
        "\n",
        "#### ■ Briefly explain what this algorithm is and what it is doing in 1–3 sentences.  \n",
        "**\"Chroma uses the all-MiniLM-L6-v2 model, a lightweight transformer that maps sentences to 384-dimensional vectors based on their meaning.  \n",
        "It captures the semantic essence of the input and converts it into a dense vector that can be used for similarity search.  \n",
        "This makes it efficient for real-time applications like semantic search and recommendations.\"**\n",
        "\n",
        "---\n",
        "\n",
        "### ○ Print the size of the embedding space  \n",
        "Since Chroma uses `all-MiniLM-L6-v2`, the vector dimension is **384**.  \n",
        "So, the **embedding space size = 384 dimensions**.\n"
      ],
      "metadata": {
        "id": "mei_nACL1ERW"
      }
    },
    {
      "cell_type": "code",
      "source": [
        "# Import the embedding function explicitly if needed (optional)\n",
        "from chromadb.utils import embedding_functions\n",
        "\n",
        "# Get the default embedding function\n",
        "embedding_fn = answers._embedding_function\n",
        "\n",
        "# Test with a sample string to get the embedding size\n",
        "sample_embedding = embedding_fn([\"Test sentence\"])[0]\n",
        "embedding_size = len(sample_embedding)\n",
        "print(\"Embedding space size (dimensions):\", embedding_size)  # Outputs 384"
      ],
      "metadata": {
        "colab": {
          "base_uri": "https://localhost:8080/"
        },
        "id": "4xwRKNOB1FWB",
        "outputId": "f7f3b6f1-685e-4c4a-c9a9-3326eb3cad24"
      },
      "execution_count": null,
      "outputs": [
        {
          "output_type": "stream",
          "name": "stdout",
          "text": [
            "Embedding space size (dimensions): 384\n"
          ]
        }
      ]
    },
    {
      "cell_type": "markdown",
      "source": [
        "## Index Creation\n",
        "\n",
        "### ○ What is indexing in the context of vector databases?  \n",
        "**Indexing** organizes vectors for fast retrieval, typically using **approximate nearest neighbor (ANN)** techniques to reduce search time.  \n",
        "When a vector database creates an index, it builds internal data structures (like graphs or trees) that allow it to quickly find vectors similar to a given query vector.\n",
        "\n",
        "---\n",
        "\n",
        "### ○ What are the main tradeoffs for precomputing vector indexes?  \n",
        "**Precomputing** indexes significantly **speeds up query times** but comes with tradeoffs:  \n",
        "- **Increased memory usage**  \n",
        "- **Longer setup time**  \n",
        "- **Less flexibility** when data is frequently updated or deleted\n",
        "\n",
        "---\n",
        "\n",
        "### ○ When you used `.add` in Step 4, Chroma automatically created an index for you.\n",
        "\n",
        "#### ■ What algorithm did it use to build the index?  \n",
        "Chroma uses the **HNSW (Hierarchical Navigable Small World)** algorithm.\n",
        "\n",
        "#### ■ Briefly explain what this algorithm is and what it is doing in 1–3 sentences.  \n",
        "**Chroma uses HNSW, an ANN algorithm that builds a multi-layered graph structure where vectors are connected to their neighbors.  \n",
        "When searching, the algorithm efficiently navigates through this graph to find the nearest vectors based on similarity.  \n",
        "This allows for fast and accurate approximate searches even in high-dimensional spaces.**\n"
      ],
      "metadata": {
        "id": "cj3OTjaL11rm"
      }
    },
    {
      "cell_type": "markdown",
      "source": [
        "## Similarity Search\n",
        "\n",
        "### What is Similarity Search?\n",
        "Similarity search in vector databases retrieves the closest vectors to a query vector in the embedding space, using metrics like cosine similarity or Euclidean distance. It’s designed to find data points (e.g., documents) that are semantically similar to the input, rather than exact matches, making it ideal for applications like chatbots.\n",
        "\n",
        "### What Does Embedding a Query Mean?\n",
        "Embedding a query means converting it into a numerical vector within the same embedding space as the stored documents, using the same model (e.g., all-MiniLM-L6-v2 in Chroma). This transformation allows the system to measure similarity between the query and database entries, enabling relevant retrieval.\n",
        "\n",
        "### Performing Similarity Search\n",
        "Below, we query the \"answers\" collection with our two customer questions, retrieving the top 2 most similar documents for each."
      ],
      "metadata": {
        "id": "iyANu1pi2MNq"
      }
    },
    {
      "cell_type": "code",
      "source": [
        "\n",
        "# Verify collection (optional debugging)\n",
        "print(\"Collection count:\", answers.count())  # Should print 8\n",
        "\n",
        "# Perform similarity search for each query\n",
        "try:\n",
        "    result1 = answers.query(query_texts=[query1], n_results=2)\n",
        "    result2 = answers.query(query_texts=[query2], n_results=2)\n",
        "\n",
        "    # Print results cleanly\n",
        "    print(\"Query 1:\", query1)\n",
        "    print(\"Top 2 documents:\")\n",
        "    for doc in result1['documents'][0]:\n",
        "        print(f\"- {doc}\")\n",
        "    print(\"\\nQuery 2:\", query2)\n",
        "    print(\"Top 2 documents:\")\n",
        "    for doc in result2['documents'][0]:\n",
        "        print(f\"- {doc}\")\n",
        "except Exception as e:\n",
        "    print(f\"Error during query: {e}\")"
      ],
      "metadata": {
        "colab": {
          "base_uri": "https://localhost:8080/"
        },
        "id": "e1qs3kId12-p",
        "outputId": "e04a4347-8e5d-445b-cd80-01e300d4737a"
      },
      "execution_count": null,
      "outputs": [
        {
          "output_type": "stream",
          "name": "stdout",
          "text": [
            "Collection count: 8\n",
            "Query 1: How does the Smart Thermostat learn my schedule?\n",
            "Top 2 documents:\n",
            "- Our Smart Thermostat adjusts room temperature based on your daily routine.\n",
            "- Our subscription service provides 24/7 monitoring for all smart devices.\n",
            "\n",
            "Query 2: Can I talk to visitors through the Smart Doorbell?\n",
            "Top 2 documents:\n",
            "- The Smart Doorbell includes a two-way audio feature for visitor communication.\n",
            "- The Smart Speaker delivers high-quality sound and voice control.\n"
          ]
        }
      ]
    },
    {
      "cell_type": "markdown",
      "source": [
        "### What Do These Results Represent and How to Use Them?\n",
        "These results represent the two documents most semantically similar to each query, ranked by their vector proximity in the embedding space using Chroma’s HNSW index. For the chatbot, we’d use them to generate responses: for \"How does the Smart Thermostat learn my schedule?\", it could say, \"Our Smart Thermostat adapts to your daily routine by tracking your temperature preferences.\" For \"Can I talk to visitors through the Smart Doorbell?\", it might respond, \"Yes, the Smart Doorbell’s two-way audio lets you speak with visitors directly.\" This delivers precise, user-friendly answers based on the most relevant stored information.\n"
      ],
      "metadata": {
        "id": "L6vK_LG85t_s"
      }
    },
    {
      "cell_type": "markdown",
      "source": [
        "## Step 8: Scale\n",
        "\n",
        "**Scenario:**  \n",
        "Our Smart Home Gadgets company has grown significantly, acquiring all competitors and unrelated firms.  \n",
        "Our products and services now span far beyond smart home devices, and we need to manage diverse data types like images, videos, GIFs, and songs for our chatbot.\n",
        "\n",
        "---\n",
        "\n",
        "###  Options for Scaling Your Vector Database / Chatbot\n",
        "\n",
        "- **Chroma Persistent Storage:**  \n",
        "  Transition from `chromadb.Client()` to `chromadb.PersistentClient()` to store embeddings on disk, accommodating larger datasets that exceed memory limits.\n",
        "\n",
        "- **Chroma Client-Server Mode:**  \n",
        "  Deploy Chroma as a distributed service across multiple servers, enabling it to handle increased query traffic and storage demands from our expanded offerings.\n",
        "\n",
        "- **Switch to Scalable Vector Databases:**  \n",
        "  Adopt **Milvus** for its distributed architecture and support for diverse data, or **Pinecone** for a managed cloud solution that scales effortlessly with growth.\n",
        "\n",
        "- **Multimodal Embedding Integration:**  \n",
        "  Incorporate models like **CLIP** (for text and images), **video encoders**, or **audio transformers** (for songs) to generate embeddings for diverse data types, expanding the chatbot’s knowledge base.\n",
        "\n",
        "---\n",
        "\n",
        "### ⚖️ Considerations / Tradeoffs to Weigh\n",
        "\n",
        "- **Performance vs. Persistence:**  \n",
        "  Persistent storage in Chroma ensures data durability but may slow query response times compared to in-memory setups — critical for real-time chatbot interactions.\n",
        "\n",
        "- **Scalability vs. Complexity:**  \n",
        "  Distributed Chroma or Milvus scales to handle large datasets and high traffic but requires more setup effort and expertise, increasing operational complexity.\n",
        "\n",
        "- **Cost vs. Convenience:**  \n",
        "  Pinecone simplifies scaling with its cloud service but incurs subscription costs. Self-managed options like Milvus or Chroma are cheaper but demand more resources to maintain.\n",
        "\n",
        "- **Data Diversity vs. Resources:**  \n",
        "  Supporting images, videos, GIFs, and songs requires preprocessing with specialized models, raising computational and storage needs.  \n",
        "  We must balance richness of responses with processing overhead.\n"
      ],
      "metadata": {
        "id": "WVWPkwEP27Uc"
      }
    },
    {
      "cell_type": "markdown",
      "source": [
        "### Differences Between Chroma and Milvus\n",
        "\n",
        "After doing the same chatbot implementation on **Milvus**, here are the key differences I observed between **Chroma** and **Milvus**:\n",
        "\n",
        "| Feature              | **Chroma**                                                                 | **Milvus**                                                                 |\n",
        "|----------------------|------------------------------------------------------------------------------|------------------------------------------------------------------------------|\n",
        "| **Ease of Setup**    | Very easy to set up with a simple in-memory client; great for prototyping. | More complex setup, often requires Docker or Kubernetes for production use. |\n",
        "| **Deployment Modes** | Local (ephemeral), persistent local, client-server modes.                   | Designed for large-scale, distributed deployments; supports cluster mode.   |\n",
        "| **Storage Backend**  | Uses DuckDB and supports other local storage engines.                        | Built on top of advanced storage backends like RocksDB and MinIO.           |\n",
        "| **Scalability**      | Best for small to mid-size use cases.                                        | Highly scalable; handles billions of vectors and multiple data types.       |\n",
        "| **Performance**      | Fast for lightweight tasks; good default HNSW index.                         | Optimized for high-performance querying across distributed infrastructure.  |\n",
        "| **Data Types**       | Mainly optimized for text embeddings.                                        | Supports multimodal data (text, images, video, audio, etc.).                |\n",
        "| **Community/Docs**   | Newer and still growing; simpler API.                                        | Larger open-source community and comprehensive documentation.               |\n",
        "| **Use Case Fit**     | Ideal for rapid development, demos, and academic projects.                   | Best for enterprise-grade, production-scale applications.                   |\n",
        "\n",
        "### Summary\n",
        "After completing both implementations, I found **Chroma** ideal for lightweight, fast prototyping and academic experiments. In contrast, **Milvus** is more robust and production-ready, capable of supporting a variety of data types and large-scale deployments.\n"
      ],
      "metadata": {
        "id": "MQnpUtpXJwmW"
      }
    }
  ]
}